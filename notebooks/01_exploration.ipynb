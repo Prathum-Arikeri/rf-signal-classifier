{
 "cells": [
  {
   "cell_type": "code",
   "execution_count": null,
   "id": "initial_id",
   "metadata": {
    "collapsed": true
   },
   "outputs": [],
   "source": [
    "{\n",
    " \"cells\": [\n",
    "  {\n",
    "   \"cell_type\": \"markdown\",\n",
    "   \"metadata\": {},\n",
    "   \"source\": [\n",
    "    \"# Exploratory Data Analysis for RadioML2016.10a\\n\",\n",
    "    \"Load and visualize dataset properties, sample signals, and label distribution.\"\n",
    "   ]\n",
    "  },\n",
    "  {\n",
    "   \"cell_type\": \"code\",\n",
    "   \"execution_count\": 1,\n",
    "   \"metadata\": {},\n",
    "   \"outputs\": [],\n",
    "   \"source\": [\n",
    "    \"import pickle\\n\",\n",
    "    \"import matplotlib.pyplot as plt\\n\",\n",
    "    \"import numpy as np\\n\",\n",
    "    \"\\n\",\n",
    "    \"with open('data/raw/RadioML2016.10a/RadioML2016.10a.pkl', 'rb') as f:\\n\",\n",
    "    \"    data = pickle.load(f)\\n\",\n",
    "    \"\\n\",\n",
    "    \"# Inspect keys\\n\",\n",
    "    \"print(data.keys())\\n\",\n",
    "    \"\\n\",\n",
    "    \"# Plot label distribution example\\n\",\n",
    "    \"labels = data['Y']\\n\",\n",
    "    \"unique, counts = np.unique(labels, return_counts=True)\\n\",\n",
    "    \"plt.bar(unique, counts)\\n\",\n",
    "    \"plt.title('Label Distribution')\\n\",\n",
    "    \"plt.show()\\n\",\n",
    "    \"\\n\",\n",
    "    \"# Plot example signal\\n\",\n",
    "    \"signal = data['X'][0]\\n\",\n",
    "    \"plt.plot(signal.real)  # Assuming complex signals\\n\",\n",
    "    \"plt.title('Example Signal (Real Part)')\\n\",\n",
    "    \"plt.show()\"\n",
    "   ]\n",
    "  }\n",
    " ],\n",
    " \"metadata\": {\n",
    "  \"kernelspec\": {\n",
    "   \"display_name\": \"Python 3\",\n",
    "   \"language\": \"python\",\n",
    "   \"name\": \"python3\"\n",
    "  },\n",
    "  \"language_info\": {\n",
    "   \"name\": \"python\"\n",
    "  }\n",
    " },\n",
    " \"nbformat\": 4,\n",
    " \"nbformat_minor\": 5\n",
    "}\n"
   ]
  }
 ],
 "metadata": {
  "kernelspec": {
   "display_name": "Python 3",
   "language": "python",
   "name": "python3"
  },
  "language_info": {
   "codemirror_mode": {
    "name": "ipython",
    "version": 2
   },
   "file_extension": ".py",
   "mimetype": "text/x-python",
   "name": "python",
   "nbconvert_exporter": "python",
   "pygments_lexer": "ipython2",
   "version": "2.7.6"
  }
 },
 "nbformat": 4,
 "nbformat_minor": 5
}
